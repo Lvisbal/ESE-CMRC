{
  "nbformat": 4,
  "nbformat_minor": 0,
  "metadata": {
    "colab": {
      "provenance": [],
      "mount_file_id": "1Qppak3myocOL_ZbTR2pQ8YhcnAa5DH9v",
      "authorship_tag": "ABX9TyOlDa6db6o+9iXwtB/gUkXq",
      "include_colab_link": true
    },
    "kernelspec": {
      "name": "python3",
      "display_name": "Python 3"
    },
    "language_info": {
      "name": "python"
    }
  },
  "cells": [
    {
      "cell_type": "markdown",
      "metadata": {
        "id": "view-in-github",
        "colab_type": "text"
      },
      "source": [
        "<a href=\"https://colab.research.google.com/github/Lvisbal/ESE-CMRC/blob/main/SIREM_2024.ipynb\" target=\"_parent\"><img src=\"https://colab.research.google.com/assets/colab-badge.svg\" alt=\"Open In Colab\"/></a>"
      ]
    },
    {
      "cell_type": "code",
      "execution_count": 13,
      "metadata": {
        "id": "Lh4Kkl71Z8Qi"
      },
      "outputs": [],
      "source": [
        "import pandas as pd\n",
        "from google.colab import drive\n",
        "from google.colab import files"
      ]
    },
    {
      "cell_type": "code",
      "source": [
        "drive.mount('/content/drive')\n",
        "archivo_path = '/content/drive/MyDrive/ESE Clinica MRC - Contratacion 2025/Datasets/Base-informe-9000.xlsx'\n",
        "data = pd.read_excel(archivo_path)"
      ],
      "metadata": {
        "colab": {
          "base_uri": "https://localhost:8080/"
        },
        "id": "i-kOLUDNaHg_",
        "outputId": "901a51b4-addb-4526-f8ec-5f8886af90ae"
      },
      "execution_count": 14,
      "outputs": [
        {
          "output_type": "stream",
          "name": "stdout",
          "text": [
            "Drive already mounted at /content/drive; to attempt to forcibly remount, call drive.mount(\"/content/drive\", force_remount=True).\n"
          ]
        }
      ]
    },
    {
      "cell_type": "code",
      "source": [
        "# Ver nombres de las columnas en el archivo cargado\n",
        "print(data.columns.tolist())"
      ],
      "metadata": {
        "colab": {
          "base_uri": "https://localhost:8080/"
        },
        "id": "RlDcmis-iNn9",
        "outputId": "4f88c75a-325e-4224-dac2-71acbf98da06"
      },
      "execution_count": 15,
      "outputs": [
        {
          "output_type": "stream",
          "name": "stdout",
          "text": [
            "['Ranking', 'NIT', 'RAZON SOCIAL', 'SUPERVISOR', 'REGIÓN', 'DEPARTAMENTO DOMICILIO', 'CIUDAD DOMICILIO', 'CIIU', 'MACROSECTOR', 'INGRESOS OPERACIONALES\\n2023*', 'GANANCIA (PERDIDA) 2023', 'TOTAL ACTIVOS 2023', 'TOTAL PASIVOS 2023', 'TOTAL PATRIMONIO 2023', 'INGRESOS OPERACIONALES\\n2022*', 'GANANCIA (PERDIDA)2022', 'TOTAL ACTIVOS 2022', 'TOTAL PASIVOS 2022', 'TOTAL PATRIMONIO 2022', 'GRUPO EN NIIF']\n"
          ]
        }
      ]
    },
    {
      "cell_type": "code",
      "source": [
        "# Paso 1: Extraer únicamente el código del CIIU\n",
        "data['CIIU'] = data['CIIU'].str.split(' - ').str[0]\n",
        "\n",
        "# Paso 2: Definir los códigos CIIU a filtrar\n",
        "ciiu_filtrados = ['S9601', 'N8010', 'I5629', 'N8129']\n",
        "\n",
        "# Paso 3: Filtrar los datos por los códigos CIIU requeridos\n",
        "data_filtrada = data[data['CIIU'].isin(ciiu_filtrados)]"
      ],
      "metadata": {
        "id": "iBsZDHJGgqjF"
      },
      "execution_count": 16,
      "outputs": []
    },
    {
      "cell_type": "code",
      "source": [
        "# Paso 4: Crear el archivo Excel con cálculos por cada CIIU\n",
        "with pd.ExcelWriter('indicadores_CIIU.xlsx') as writer:\n",
        "    datos_generados = False  # Bandera para verificar si se generó alguna hoja\n",
        "\n",
        "    for ciiu in ciiu_filtrados:\n",
        "        # Filtrar datos por cada CIIU\n",
        "        data_ciiu = data_filtrada[data_filtrada['CIIU'] == ciiu]\n",
        "\n",
        "        if data_ciiu.empty:\n",
        "            print(f\"No hay datos para el CIIU {ciiu}.\")\n",
        "            continue\n",
        "\n",
        "        # Calcular los totales necesarios para los indicadores\n",
        "        totales = data_ciiu[['TOTAL ACTIVOS 2023', 'TOTAL PASIVOS 2023', 'GANANCIA (PERDIDA) 2023', 'TOTAL PATRIMONIO 2023']].sum()\n",
        "\n",
        "        # Calcular indicadores financieros\n",
        "        indicadores = pd.DataFrame({\n",
        "            'Indicador': ['Liquidez', 'Endeudamiento', 'Capital de Trabajo', 'ROE', 'RAE'],\n",
        "            'Valor': [\n",
        "                totales['TOTAL ACTIVOS 2023'] / totales['TOTAL PASIVOS 2023'] if totales['TOTAL PASIVOS 2023'] != 0 else 0,\n",
        "                totales['TOTAL PASIVOS 2023'] / totales['TOTAL ACTIVOS 2023'] if totales['TOTAL ACTIVOS 2023'] != 0 else 0,\n",
        "                totales['TOTAL ACTIVOS 2023'] - totales['TOTAL PASIVOS 2023'],\n",
        "                totales['GANANCIA (PERDIDA) 2023'] / totales['TOTAL PATRIMONIO 2023'] if totales['TOTAL PATRIMONIO 2023'] != 0 else 0,\n",
        "                totales['GANANCIA (PERDIDA) 2023'] / totales['TOTAL ACTIVOS 2023'] if totales['TOTAL ACTIVOS 2023'] != 0 else 0\n",
        "            ]\n",
        "        })\n",
        "\n",
        "        # Imprimir resultados en la consola\n",
        "        print(f\"\\nResultados para CIIU {ciiu}:\")\n",
        "        print(indicadores)\n",
        "\n",
        "        # Guardar los indicadores en una hoja del archivo Excel\n",
        "        indicadores.to_excel(writer, sheet_name=f'CIIU_{ciiu}', index=False)\n",
        "        datos_generados = True\n",
        "\n",
        "    # Crear una hoja de control si no hubo datos para los códigos especificados\n",
        "    if not datos_generados:\n",
        "        pd.DataFrame({'Mensaje': ['No se encontraron datos para los CIIU especificados.']}).to_excel(writer, sheet_name='Control', index=False)\n",
        "\n",
        "print(\"\\nArchivo 'indicadores_CIIU.xlsx' creado con éxito.\")\n",
        "\n",
        "# Paso 5: Descargar el archivo generado\n",
        "from google.colab import files\n",
        "files.download('indicadores_CIIU.xlsx')"
      ],
      "metadata": {
        "colab": {
          "base_uri": "https://localhost:8080/",
          "height": 607
        },
        "id": "krDzUmd_ifgS",
        "outputId": "60d1732d-45c6-4e3c-86dd-8c6396d01bd8"
      },
      "execution_count": 21,
      "outputs": [
        {
          "output_type": "stream",
          "name": "stdout",
          "text": [
            "\n",
            "Resultados para CIIU S9601:\n",
            "            Indicador         Valor\n",
            "0            Liquidez  2.816766e+00\n",
            "1       Endeudamiento  3.550171e-01\n",
            "2  Capital de Trabajo  1.918054e+08\n",
            "3                 ROE  1.278248e-01\n",
            "4                 RAE  8.244482e-02\n",
            "\n",
            "Resultados para CIIU N8010:\n",
            "            Indicador         Valor\n",
            "0            Liquidez  2.158728e+00\n",
            "1       Endeudamiento  4.632357e-01\n",
            "2  Capital de Trabajo  2.475402e+09\n",
            "3                 ROE  1.438385e-01\n",
            "4                 RAE  7.720737e-02\n",
            "\n",
            "Resultados para CIIU I5629:\n",
            "            Indicador         Valor\n",
            "0            Liquidez  2.459094e+00\n",
            "1       Endeudamiento  4.066538e-01\n",
            "2  Capital de Trabajo  3.534809e+08\n",
            "3                 ROE  9.362638e-02\n",
            "4                 RAE  5.555286e-02\n",
            "\n",
            "Resultados para CIIU N8129:\n",
            "            Indicador         Valor\n",
            "0            Liquidez  2.341755e+00\n",
            "1       Endeudamiento  4.270302e-01\n",
            "2  Capital de Trabajo  1.433737e+08\n",
            "3                 ROE  2.736100e-02\n",
            "4                 RAE  1.567703e-02\n",
            "\n",
            "Archivo 'indicadores_CIIU.xlsx' creado con éxito.\n"
          ]
        },
        {
          "output_type": "display_data",
          "data": {
            "text/plain": [
              "<IPython.core.display.Javascript object>"
            ],
            "application/javascript": [
              "\n",
              "    async function download(id, filename, size) {\n",
              "      if (!google.colab.kernel.accessAllowed) {\n",
              "        return;\n",
              "      }\n",
              "      const div = document.createElement('div');\n",
              "      const label = document.createElement('label');\n",
              "      label.textContent = `Downloading \"${filename}\": `;\n",
              "      div.appendChild(label);\n",
              "      const progress = document.createElement('progress');\n",
              "      progress.max = size;\n",
              "      div.appendChild(progress);\n",
              "      document.body.appendChild(div);\n",
              "\n",
              "      const buffers = [];\n",
              "      let downloaded = 0;\n",
              "\n",
              "      const channel = await google.colab.kernel.comms.open(id);\n",
              "      // Send a message to notify the kernel that we're ready.\n",
              "      channel.send({})\n",
              "\n",
              "      for await (const message of channel.messages) {\n",
              "        // Send a message to notify the kernel that we're ready.\n",
              "        channel.send({})\n",
              "        if (message.buffers) {\n",
              "          for (const buffer of message.buffers) {\n",
              "            buffers.push(buffer);\n",
              "            downloaded += buffer.byteLength;\n",
              "            progress.value = downloaded;\n",
              "          }\n",
              "        }\n",
              "      }\n",
              "      const blob = new Blob(buffers, {type: 'application/binary'});\n",
              "      const a = document.createElement('a');\n",
              "      a.href = window.URL.createObjectURL(blob);\n",
              "      a.download = filename;\n",
              "      div.appendChild(a);\n",
              "      a.click();\n",
              "      div.remove();\n",
              "    }\n",
              "  "
            ]
          },
          "metadata": {}
        },
        {
          "output_type": "display_data",
          "data": {
            "text/plain": [
              "<IPython.core.display.Javascript object>"
            ],
            "application/javascript": [
              "download(\"download_39ccea72-bfbe-4bcd-8e07-6f4f7b14fd50\", \"indicadores_CIIU.xlsx\", 7045)"
            ]
          },
          "metadata": {}
        }
      ]
    },
    {
      "cell_type": "code",
      "source": [
        "files.download('indicadores_CIIU.xlsx')"
      ],
      "metadata": {
        "colab": {
          "base_uri": "https://localhost:8080/",
          "height": 17
        },
        "id": "8H8OkMauinNr",
        "outputId": "407be4fd-4e67-4569-f2d1-0641618f167e"
      },
      "execution_count": 19,
      "outputs": [
        {
          "output_type": "display_data",
          "data": {
            "text/plain": [
              "<IPython.core.display.Javascript object>"
            ],
            "application/javascript": [
              "\n",
              "    async function download(id, filename, size) {\n",
              "      if (!google.colab.kernel.accessAllowed) {\n",
              "        return;\n",
              "      }\n",
              "      const div = document.createElement('div');\n",
              "      const label = document.createElement('label');\n",
              "      label.textContent = `Downloading \"${filename}\": `;\n",
              "      div.appendChild(label);\n",
              "      const progress = document.createElement('progress');\n",
              "      progress.max = size;\n",
              "      div.appendChild(progress);\n",
              "      document.body.appendChild(div);\n",
              "\n",
              "      const buffers = [];\n",
              "      let downloaded = 0;\n",
              "\n",
              "      const channel = await google.colab.kernel.comms.open(id);\n",
              "      // Send a message to notify the kernel that we're ready.\n",
              "      channel.send({})\n",
              "\n",
              "      for await (const message of channel.messages) {\n",
              "        // Send a message to notify the kernel that we're ready.\n",
              "        channel.send({})\n",
              "        if (message.buffers) {\n",
              "          for (const buffer of message.buffers) {\n",
              "            buffers.push(buffer);\n",
              "            downloaded += buffer.byteLength;\n",
              "            progress.value = downloaded;\n",
              "          }\n",
              "        }\n",
              "      }\n",
              "      const blob = new Blob(buffers, {type: 'application/binary'});\n",
              "      const a = document.createElement('a');\n",
              "      a.href = window.URL.createObjectURL(blob);\n",
              "      a.download = filename;\n",
              "      div.appendChild(a);\n",
              "      a.click();\n",
              "      div.remove();\n",
              "    }\n",
              "  "
            ]
          },
          "metadata": {}
        },
        {
          "output_type": "display_data",
          "data": {
            "text/plain": [
              "<IPython.core.display.Javascript object>"
            ],
            "application/javascript": [
              "download(\"download_99801b24-0de8-4f04-ba71-70337168fa5a\", \"indicadores_CIIU.xlsx\", 7045)"
            ]
          },
          "metadata": {}
        }
      ]
    }
  ]
}